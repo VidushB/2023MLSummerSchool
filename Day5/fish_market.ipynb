{
  "cells": [
    {
      "cell_type": "code",
      "execution_count": null,
      "metadata": {
        "id": "EjOoKJazwe0W"
      },
      "outputs": [],
      "source": [
        "import numpy as np\n",
        "import pandas as pd\n",
        "import matplotlib.pyplot as plt\n",
        "from sklearn.linear_model import Ridge"
      ]
    },
    {
      "cell_type": "code",
      "execution_count": null,
      "metadata": {
        "id": "KR-q6CIawe0a"
      },
      "outputs": [],
      "source": [
        "feature = pd.read_csv('https://raw.githubusercontent.com/ajn313/NYU2023SummerML1/main/Day5/fish_market_feature.csv')\n",
        "label = pd.read_csv('https://raw.githubusercontent.com/ajn313/NYU2023SummerML1/main/Day5/fish_market_label.csv')\n",
        "X = feature.values\n",
        "y = label.values"
      ]
    },
    {
      "cell_type": "code",
      "execution_count": null,
      "metadata": {
        "id": "lPKPceqoNv_v",
        "outputId": "25bbf481-03bd-447a-99b9-968f1e91111f"
      },
      "outputs": [
        {
          "data": {
            "text/plain": [
              "((124, 5), (124, 1))"
            ]
          },
          "execution_count": 4,
          "metadata": {},
          "output_type": "execute_result"
        }
      ],
      "source": [
        "X.shape, y.shape"
      ]
    },
    {
      "cell_type": "code",
      "source": [
        "# Hint: \n",
        "# Do you need to split the dataset?\n",
        "# How to prediction? Features?\n",
        "# Polynomial? Order? Would it be overfitting? \n",
        "# Loss function?\n",
        "# Plot?\n",
        "\n",
        "# Go over the past slides and labs! "
      ],
      "metadata": {
        "id": "iHrLoGT6N0f9"
      },
      "execution_count": null,
      "outputs": []
    }
  ],
  "metadata": {
    "colab": {
      "name": "fish_market.ipynb",
      "provenance": []
    },
    "kernelspec": {
      "display_name": "Python 3",
      "language": "python",
      "name": "python3"
    },
    "language_info": {
      "codemirror_mode": {
        "name": "ipython",
        "version": 3
      },
      "file_extension": ".py",
      "mimetype": "text/x-python",
      "name": "python",
      "nbconvert_exporter": "python",
      "pygments_lexer": "ipython3",
      "version": "3.7.0"
    },
    "latex_envs": {
      "LaTeX_envs_menu_present": true,
      "autoclose": true,
      "autocomplete": true,
      "bibliofile": "biblio.bib",
      "cite_by": "apalike",
      "current_citInitial": 1,
      "eqLabelWithNumbers": true,
      "eqNumInitial": 1,
      "hotkeys": {
        "equation": "Ctrl-E",
        "itemize": "Ctrl-I"
      },
      "labels_anchors": false,
      "latex_user_defs": false,
      "report_style_numbering": false,
      "user_envs_cfg": false
    }
  },
  "nbformat": 4,
  "nbformat_minor": 0
}
