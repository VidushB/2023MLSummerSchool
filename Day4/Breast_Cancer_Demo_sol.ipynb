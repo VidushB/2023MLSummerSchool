{
  "cells": [
    {
      "cell_type": "markdown",
      "metadata": {
        "id": "uFl5VYXPIY7D"
      },
      "source": [
        "## Breast Cancer Diagnosis via Linear Regression"
      ]
    },
    {
      "cell_type": "markdown",
      "metadata": {
        "id": "MkFIjttvIhDs"
      },
      "source": [
        "We will use the widely-used breast cancer data set.  \n",
        "\n",
        "\n",
        "Each sample is a collection of features that were manually recorded by a physician upon inspecting a sample of cells from fine needle aspiration.\n",
        "\n",
        "**The goal is to detect if the cells are benign or malignant.**"
      ]
    },
    {
      "cell_type": "markdown",
      "metadata": {
        "id": "9TNtqa-3I1K7"
      },
      "source": [
        "#### Loading and Visualizing the Data\n",
        "\n",
        "We first load the packages as usual."
      ]
    },
    {
      "cell_type": "code",
      "execution_count": 1,
      "metadata": {
        "id": "x2uPPzaUIP_b"
      },
      "outputs": [],
      "source": [
        "import numpy as np\n",
        "import matplotlib\n",
        "import matplotlib.pyplot as plt\n",
        "import pandas as pd\n",
        "from sklearn import datasets, linear_model, preprocessing\n",
        "%matplotlib inline"
      ]
    },
    {
      "cell_type": "markdown",
      "metadata": {
        "id": "VWEojdFDI8AK"
      },
      "source": [
        "Next, we load the data.  It is important to remove the missing values."
      ]
    },
    {
      "cell_type": "code",
      "execution_count": 2,
      "metadata": {
        "colab": {
          "base_uri": "https://localhost:8080/",
          "height": 206
        },
        "id": "YCBZS-xbI9gt",
        "outputId": "8c934a65-af2a-4577-f0b7-3c92e872b55f"
      },
      "outputs": [
        {
          "output_type": "execute_result",
          "data": {
            "text/plain": [
              "        id  thick  size  shape  marg  cell_size  bare  chrom  normal  mit  \\\n",
              "0  1000025      5     1      1     1          2   1.0      3       1    1   \n",
              "1  1002945      5     4      4     5          7  10.0      3       2    1   \n",
              "2  1015425      3     1      1     1          2   2.0      3       1    1   \n",
              "3  1016277      6     8      8     1          3   4.0      3       7    1   \n",
              "4  1017023      4     1      1     3          2   1.0      3       1    1   \n",
              "\n",
              "   class  \n",
              "0      2  \n",
              "1      2  \n",
              "2      2  \n",
              "3      2  \n",
              "4      2  "
            ],
            "text/html": [
              "\n",
              "\n",
              "  <div id=\"df-3ff37d53-fccb-4942-8a45-54f9f724e8f7\">\n",
              "    <div class=\"colab-df-container\">\n",
              "      <div>\n",
              "<style scoped>\n",
              "    .dataframe tbody tr th:only-of-type {\n",
              "        vertical-align: middle;\n",
              "    }\n",
              "\n",
              "    .dataframe tbody tr th {\n",
              "        vertical-align: top;\n",
              "    }\n",
              "\n",
              "    .dataframe thead th {\n",
              "        text-align: right;\n",
              "    }\n",
              "</style>\n",
              "<table border=\"1\" class=\"dataframe\">\n",
              "  <thead>\n",
              "    <tr style=\"text-align: right;\">\n",
              "      <th></th>\n",
              "      <th>id</th>\n",
              "      <th>thick</th>\n",
              "      <th>size</th>\n",
              "      <th>shape</th>\n",
              "      <th>marg</th>\n",
              "      <th>cell_size</th>\n",
              "      <th>bare</th>\n",
              "      <th>chrom</th>\n",
              "      <th>normal</th>\n",
              "      <th>mit</th>\n",
              "      <th>class</th>\n",
              "    </tr>\n",
              "  </thead>\n",
              "  <tbody>\n",
              "    <tr>\n",
              "      <th>0</th>\n",
              "      <td>1000025</td>\n",
              "      <td>5</td>\n",
              "      <td>1</td>\n",
              "      <td>1</td>\n",
              "      <td>1</td>\n",
              "      <td>2</td>\n",
              "      <td>1.0</td>\n",
              "      <td>3</td>\n",
              "      <td>1</td>\n",
              "      <td>1</td>\n",
              "      <td>2</td>\n",
              "    </tr>\n",
              "    <tr>\n",
              "      <th>1</th>\n",
              "      <td>1002945</td>\n",
              "      <td>5</td>\n",
              "      <td>4</td>\n",
              "      <td>4</td>\n",
              "      <td>5</td>\n",
              "      <td>7</td>\n",
              "      <td>10.0</td>\n",
              "      <td>3</td>\n",
              "      <td>2</td>\n",
              "      <td>1</td>\n",
              "      <td>2</td>\n",
              "    </tr>\n",
              "    <tr>\n",
              "      <th>2</th>\n",
              "      <td>1015425</td>\n",
              "      <td>3</td>\n",
              "      <td>1</td>\n",
              "      <td>1</td>\n",
              "      <td>1</td>\n",
              "      <td>2</td>\n",
              "      <td>2.0</td>\n",
              "      <td>3</td>\n",
              "      <td>1</td>\n",
              "      <td>1</td>\n",
              "      <td>2</td>\n",
              "    </tr>\n",
              "    <tr>\n",
              "      <th>3</th>\n",
              "      <td>1016277</td>\n",
              "      <td>6</td>\n",
              "      <td>8</td>\n",
              "      <td>8</td>\n",
              "      <td>1</td>\n",
              "      <td>3</td>\n",
              "      <td>4.0</td>\n",
              "      <td>3</td>\n",
              "      <td>7</td>\n",
              "      <td>1</td>\n",
              "      <td>2</td>\n",
              "    </tr>\n",
              "    <tr>\n",
              "      <th>4</th>\n",
              "      <td>1017023</td>\n",
              "      <td>4</td>\n",
              "      <td>1</td>\n",
              "      <td>1</td>\n",
              "      <td>3</td>\n",
              "      <td>2</td>\n",
              "      <td>1.0</td>\n",
              "      <td>3</td>\n",
              "      <td>1</td>\n",
              "      <td>1</td>\n",
              "      <td>2</td>\n",
              "    </tr>\n",
              "  </tbody>\n",
              "</table>\n",
              "</div>\n",
              "      <button class=\"colab-df-convert\" onclick=\"convertToInteractive('df-3ff37d53-fccb-4942-8a45-54f9f724e8f7')\"\n",
              "              title=\"Convert this dataframe to an interactive table.\"\n",
              "              style=\"display:none;\">\n",
              "\n",
              "  <svg xmlns=\"http://www.w3.org/2000/svg\" height=\"24px\"viewBox=\"0 0 24 24\"\n",
              "       width=\"24px\">\n",
              "    <path d=\"M0 0h24v24H0V0z\" fill=\"none\"/>\n",
              "    <path d=\"M18.56 5.44l.94 2.06.94-2.06 2.06-.94-2.06-.94-.94-2.06-.94 2.06-2.06.94zm-11 1L8.5 8.5l.94-2.06 2.06-.94-2.06-.94L8.5 2.5l-.94 2.06-2.06.94zm10 10l.94 2.06.94-2.06 2.06-.94-2.06-.94-.94-2.06-.94 2.06-2.06.94z\"/><path d=\"M17.41 7.96l-1.37-1.37c-.4-.4-.92-.59-1.43-.59-.52 0-1.04.2-1.43.59L10.3 9.45l-7.72 7.72c-.78.78-.78 2.05 0 2.83L4 21.41c.39.39.9.59 1.41.59.51 0 1.02-.2 1.41-.59l7.78-7.78 2.81-2.81c.8-.78.8-2.07 0-2.86zM5.41 20L4 18.59l7.72-7.72 1.47 1.35L5.41 20z\"/>\n",
              "  </svg>\n",
              "      </button>\n",
              "\n",
              "\n",
              "\n",
              "    <div id=\"df-d235f651-f138-459d-9325-7e2f52dab690\">\n",
              "      <button class=\"colab-df-quickchart\" onclick=\"quickchart('df-d235f651-f138-459d-9325-7e2f52dab690')\"\n",
              "              title=\"Suggest charts.\"\n",
              "              style=\"display:none;\">\n",
              "\n",
              "<svg xmlns=\"http://www.w3.org/2000/svg\" height=\"24px\"viewBox=\"0 0 24 24\"\n",
              "     width=\"24px\">\n",
              "    <g>\n",
              "        <path d=\"M19 3H5c-1.1 0-2 .9-2 2v14c0 1.1.9 2 2 2h14c1.1 0 2-.9 2-2V5c0-1.1-.9-2-2-2zM9 17H7v-7h2v7zm4 0h-2V7h2v10zm4 0h-2v-4h2v4z\"/>\n",
              "    </g>\n",
              "</svg>\n",
              "      </button>\n",
              "    </div>\n",
              "\n",
              "<style>\n",
              "  .colab-df-quickchart {\n",
              "    background-color: #E8F0FE;\n",
              "    border: none;\n",
              "    border-radius: 50%;\n",
              "    cursor: pointer;\n",
              "    display: none;\n",
              "    fill: #1967D2;\n",
              "    height: 32px;\n",
              "    padding: 0 0 0 0;\n",
              "    width: 32px;\n",
              "  }\n",
              "\n",
              "  .colab-df-quickchart:hover {\n",
              "    background-color: #E2EBFA;\n",
              "    box-shadow: 0px 1px 2px rgba(60, 64, 67, 0.3), 0px 1px 3px 1px rgba(60, 64, 67, 0.15);\n",
              "    fill: #174EA6;\n",
              "  }\n",
              "\n",
              "  [theme=dark] .colab-df-quickchart {\n",
              "    background-color: #3B4455;\n",
              "    fill: #D2E3FC;\n",
              "  }\n",
              "\n",
              "  [theme=dark] .colab-df-quickchart:hover {\n",
              "    background-color: #434B5C;\n",
              "    box-shadow: 0px 1px 3px 1px rgba(0, 0, 0, 0.15);\n",
              "    filter: drop-shadow(0px 1px 2px rgba(0, 0, 0, 0.3));\n",
              "    fill: #FFFFFF;\n",
              "  }\n",
              "</style>\n",
              "\n",
              "    <script>\n",
              "      async function quickchart(key) {\n",
              "        const containerElement = document.querySelector('#' + key);\n",
              "        const charts = await google.colab.kernel.invokeFunction(\n",
              "            'suggestCharts', [key], {});\n",
              "      }\n",
              "    </script>\n",
              "\n",
              "      <script>\n",
              "\n",
              "function displayQuickchartButton(domScope) {\n",
              "  let quickchartButtonEl =\n",
              "    domScope.querySelector('#df-d235f651-f138-459d-9325-7e2f52dab690 button.colab-df-quickchart');\n",
              "  quickchartButtonEl.style.display =\n",
              "    google.colab.kernel.accessAllowed ? 'block' : 'none';\n",
              "}\n",
              "\n",
              "        displayQuickchartButton(document);\n",
              "      </script>\n",
              "      <style>\n",
              "    .colab-df-container {\n",
              "      display:flex;\n",
              "      flex-wrap:wrap;\n",
              "      gap: 12px;\n",
              "    }\n",
              "\n",
              "    .colab-df-convert {\n",
              "      background-color: #E8F0FE;\n",
              "      border: none;\n",
              "      border-radius: 50%;\n",
              "      cursor: pointer;\n",
              "      display: none;\n",
              "      fill: #1967D2;\n",
              "      height: 32px;\n",
              "      padding: 0 0 0 0;\n",
              "      width: 32px;\n",
              "    }\n",
              "\n",
              "    .colab-df-convert:hover {\n",
              "      background-color: #E2EBFA;\n",
              "      box-shadow: 0px 1px 2px rgba(60, 64, 67, 0.3), 0px 1px 3px 1px rgba(60, 64, 67, 0.15);\n",
              "      fill: #174EA6;\n",
              "    }\n",
              "\n",
              "    [theme=dark] .colab-df-convert {\n",
              "      background-color: #3B4455;\n",
              "      fill: #D2E3FC;\n",
              "    }\n",
              "\n",
              "    [theme=dark] .colab-df-convert:hover {\n",
              "      background-color: #434B5C;\n",
              "      box-shadow: 0px 1px 3px 1px rgba(0, 0, 0, 0.15);\n",
              "      filter: drop-shadow(0px 1px 2px rgba(0, 0, 0, 0.3));\n",
              "      fill: #FFFFFF;\n",
              "    }\n",
              "  </style>\n",
              "\n",
              "      <script>\n",
              "        const buttonEl =\n",
              "          document.querySelector('#df-3ff37d53-fccb-4942-8a45-54f9f724e8f7 button.colab-df-convert');\n",
              "        buttonEl.style.display =\n",
              "          google.colab.kernel.accessAllowed ? 'block' : 'none';\n",
              "\n",
              "        async function convertToInteractive(key) {\n",
              "          const element = document.querySelector('#df-3ff37d53-fccb-4942-8a45-54f9f724e8f7');\n",
              "          const dataTable =\n",
              "            await google.colab.kernel.invokeFunction('convertToInteractive',\n",
              "                                                     [key], {});\n",
              "          if (!dataTable) return;\n",
              "\n",
              "          const docLinkHtml = 'Like what you see? Visit the ' +\n",
              "            '<a target=\"_blank\" href=https://colab.research.google.com/notebooks/data_table.ipynb>data table notebook</a>'\n",
              "            + ' to learn more about interactive tables.';\n",
              "          element.innerHTML = '';\n",
              "          dataTable['output_type'] = 'display_data';\n",
              "          await google.colab.output.renderOutput(dataTable, element);\n",
              "          const docLink = document.createElement('div');\n",
              "          docLink.innerHTML = docLinkHtml;\n",
              "          element.appendChild(docLink);\n",
              "        }\n",
              "      </script>\n",
              "    </div>\n",
              "  </div>\n"
            ]
          },
          "metadata": {},
          "execution_count": 2
        }
      ],
      "source": [
        "names = ['id','thick','size','shape','marg','cell_size','bare',\n",
        "         'chrom','normal','mit','class']\n",
        "df = pd.read_csv('https://archive.ics.uci.edu/ml/machine-learning-databases/' +\n",
        "                 'breast-cancer-wisconsin/breast-cancer-wisconsin.data',\n",
        "                names=names,na_values='?',header=None)\n",
        "df = df.dropna()\n",
        "df.head(5)"
      ]
    },
    {
      "cell_type": "markdown",
      "metadata": {
        "id": "OYHiBO1UJEag"
      },
      "source": [
        "After loading the data, we can create a scatter plot of the data labeling the class values with different colors.  We will pick two of the features (\"size\" and \"marg\").  "
      ]
    },
    {
      "cell_type": "code",
      "execution_count": 3,
      "metadata": {
        "colab": {
          "base_uri": "https://localhost:8080/",
          "height": 570
        },
        "id": "DnS-dnPIJGkc",
        "outputId": "7ccc933d-b841-462b-8283-45383849d3f0"
      },
      "outputs": [
        {
          "output_type": "execute_result",
          "data": {
            "text/plain": [
              "<matplotlib.legend.Legend at 0x7d7266bcafe0>"
            ]
          },
          "metadata": {},
          "execution_count": 3
        },
        {
          "output_type": "display_data",
          "data": {
            "text/plain": [
              "<Figure size 800x600 with 1 Axes>"
            ],
            "image/png": "[encoded data removed]"
          },
          "metadata": {}
        }
      ],
      "source": [
        "# Converting to a zero-one indicator.\n",
        "yraw = np.array(df['class'])\n",
        "BEN_VAL = 2   # value in the 'class' label for benign samples\n",
        "MAL_VAL = 4   # value in the 'class' label for malignant samples\n",
        "y = (yraw == MAL_VAL).astype(int)\n",
        "Iben = (y==0)\n",
        "Imal = (y==1)\n",
        "\n",
        "# Get two predictors\n",
        "xnames =['size','marg']\n",
        "X = np.array(df[xnames])\n",
        "\n",
        "# Create the scatter plot\n",
        "plt.figure(figsize=(8,6))\n",
        "plt.plot(X[Imal,0],X[Imal,1],'r.')\n",
        "plt.plot(X[Iben,0],X[Iben,1],'g.')\n",
        "plt.xlabel(xnames[0], fontsize=16)\n",
        "plt.ylabel(xnames[1], fontsize=16)\n",
        "plt.ylim(0,14)\n",
        "plt.legend(['malign','benign'],loc='upper right')\n"
      ]
    },
    {
      "cell_type": "markdown",
      "metadata": {
        "id": "89PPJ0mNJIdg"
      },
      "source": [
        "The above plot is not informative, since many of the points are on top of one another.  Thus, we cannot see the relative frequency of points.  From these plots, it is also clear that the dataset is not linearly seperable. Any decision boundary drawn will result in some False Positives and False Negatives\n",
        "\n",
        "One way to improve the plot is to draw circles on each point whose size is proportional to the count of samples at that point.  We will re-use this code, so we define a function."
      ]
    },
    {
      "cell_type": "code",
      "execution_count": 4,
      "metadata": {
        "colab": {
          "base_uri": "https://localhost:8080/",
          "height": 570
        },
        "id": "2D1BF4bRJKro",
        "outputId": "88b92cad-734d-4610-c874-4b5af3bacdff"
      },
      "outputs": [
        {
          "output_type": "execute_result",
          "data": {
            "text/plain": [
              "<module 'matplotlib.pyplot' from '/usr/local/lib/python3.10/dist-packages/matplotlib/pyplot.py'>"
            ]
          },
          "metadata": {},
          "execution_count": 4
        },
        {
          "output_type": "display_data",
          "data": {
            "text/plain": [
              "<Figure size 800x600 with 1 Axes>"
            ],
            "image/png": "[encoded data removed]"
          },
          "metadata": {}
        }
      ],
      "source": [
        "def plot_count(X,y):\n",
        "\n",
        "    # Compute the bin edges for the 2d histogram\n",
        "    x0val = np.array(list(set(X[:,0]))).astype(float)\n",
        "    x1val = np.array(list(set(X[:,1]))).astype(float)\n",
        "    x0, x1 = np.meshgrid(x0val,x1val)\n",
        "    x0e= np.hstack((x0val,np.max(x0val)+1))\n",
        "    x1e= np.hstack((x1val,np.max(x1val)+1))\n",
        "\n",
        "    # Make a plot for each class\n",
        "    yval = list(set(y))\n",
        "    color = ['g','r']\n",
        "    plt.figure(figsize=(8,6))\n",
        "    for i in range(len(yval)):\n",
        "        I = np.where(y==yval[i])[0]\n",
        "        count, x0e, x1e = np.histogram2d(X[I,0],X[I,1],[x0e,x1e])\n",
        "        x0, x1 = np.meshgrid(x0val,x1val)\n",
        "        plt.scatter(x0.ravel(), x1.ravel(), s=2*count.ravel(),alpha=0.5,\n",
        "                    c=color[i],edgecolors='none')\n",
        "    plt.ylim([0,14])\n",
        "    plt.legend(['benign','malign'], loc='upper right')\n",
        "    plt.xlabel(xnames[0], fontsize=16)\n",
        "    plt.ylabel(xnames[1], fontsize=16)\n",
        "    return plt\n",
        "\n",
        "plot_count(X,y)"
      ]
    },
    {
      "cell_type": "markdown",
      "metadata": {
        "id": "aROvueqkJLdM"
      },
      "source": [
        "#  Exercise\n",
        "\n",
        "1) Based on the above plot, what would you think a good \"classifer\" using the two features could be? That is, write a rule that can classify the benign region from the malignant region.\n",
        "\n",
        "2) Define a metric function that computes TP, FP, TN, FN, the accuracy, the sensitivity and the precision.\n",
        "\n",
        "3) Try to improve your classifier given those metrics\n",
        "\n",
        "4) Use sklearn logistic regression and check each metric."
      ]
    },
    {
      "cell_type": "code",
      "execution_count": 5,
      "metadata": {
        "id": "OhtSZi3LJNPk"
      },
      "outputs": [],
      "source": [
        "# TODO: Implement the classifier of 1) (Note that there can be multiple classifiers)\n",
        "# HINT: find the equation of the line that almost completely separates the two classes (green points from the red points in the picture above)\n",
        "#       assign values greater than this line to the \"malign\" class otherwise to the \"benign\" class.\n",
        "def classifier(X,margin=4):\n",
        "    size = X[:, 0]\n",
        "    marg = X[:, 1]\n",
        "    # TODO\n",
        "    y_hat = (size + marg)>=margin # This will result a boolean. You get True for positive cases where value is above that boundary. 0 everywhere else\n",
        "    return y_hat.astype(int) # Since these values will get used for mathematical equations, convert them to ints\n",
        "    # Remember that y_hat is a vector for all rows and not a single value. That's because size and marg are vectors\n",
        "\n"
      ]
    },
    {
      "cell_type": "code",
      "execution_count": 7,
      "metadata": {
        "id": "fGd0u5WqBasT",
        "outputId": "ceecc087-9aa5-43f7-a65e-fcfeda6b5891",
        "colab": {
          "base_uri": "https://localhost:8080/"
        }
      },
      "outputs": [
        {
          "output_type": "stream",
          "name": "stdout",
          "text": [
            "TP: 231, TN: 365, FP: 79, FN: 8\n",
            "Accuracy is 0.8726207906295754, Sensitivity is 0.9665271966527197, Precision is 0.7451612903225806\n",
            "TP: 193, TN: 435, FP: 9, FN: 46\n",
            "Accuracy is 0.9194729136163983, Sensitivity is 0.8075313807531381, Precision is 0.9554455445544554\n"
          ]
        }
      ],
      "source": [
        "def metrics(y, y_hat):\n",
        "    # TODO: 2)\n",
        "    # calculate TP, TN, FP and FN rates\n",
        "    # Only TP addition can give 2. Only TN addition can give 0.\n",
        "    # FN has y=1,y_hat=0. Subtraction gives 1. It is the opposite for FPs\n",
        "\n",
        "    TP = np.sum((y + y_hat) == 2) # y = 1, yhat = 1\n",
        "    TN = np.sum((y+y_hat)==0) # y = 0, yhat = 0\n",
        "    FP = np.sum((y - y_hat) == -1) # y = 0, yhat = 1\n",
        "    FN = np.sum((y-y_hat)==1) # y = 1, yhat = 0\n",
        "\n",
        "    return TP, TN, FP, FN\n",
        "y_pred = classifier(X)\n",
        "TP, TN, FP, FN = metrics(y, y_pred)\n",
        "# calculate the following metrics using TP, TN, FP, and FN\n",
        "accuracy = (TP+TN)/(TP+TN+FP+FN) # Total correct predictions over total number of predictions\n",
        "sensitivity = TP/(TP+FN) # How sensitive is your model to all positive cases (TP+FN)\n",
        "precision = TP/(TP+FP) # WHen a model predicts positive, how accurate is that prediction\n",
        "print(\"TP: {}, TN: {}, FP: {}, FN: {}\".format(TP, TN, FP, FN))\n",
        "print(\"Accuracy is {}, Sensitivity is {}, Precision is {}\".format(accuracy, sensitivity, precision))\n",
        "\n",
        "y_pred = classifier(X,margin=8)\n",
        "# TODO: 3) try to improve your classifier and measure the performance using the metrics above\n",
        "TP, TN, FP, FN = metrics(y, y_pred)\n",
        "# calculate the following metrics using TP, TN, FP, and FN\n",
        "accuracy = (TP+TN)/(TP+TN+FP+FN) # Total correct predictions over total number of predictions\n",
        "sensitivity = TP/(TP+FN) # How sensitive is your model to all positive cases (TP+FN)\n",
        "precision = TP/(TP+FP) # WHen a model predicts positive, how accurate is that prediction\n",
        "print(\"TP: {}, TN: {}, FP: {}, FN: {}\".format(TP, TN, FP, FN))\n",
        "print(\"Accuracy is {}, Sensitivity is {}, Precision is {}\".format(accuracy, sensitivity, precision))"
      ]
    },
    {
      "cell_type": "markdown",
      "source": [
        "Remember to compare all the metrics. There will be a trade-off since moving your margin to decrease FPs will increase FNs. The right model choice will depend on your dataset."
      ],
      "metadata": {
        "id": "KnaAFEI1DnmA"
      }
    },
    {
      "cell_type": "markdown",
      "metadata": {
        "id": "7nZrupXsBasT"
      },
      "source": [
        "LogisticRegression: https://scikit-learn.org/stable/modules/generated/sklearn.linear_model.LogisticRegression.html"
      ]
    },
    {
      "cell_type": "code",
      "execution_count": 9,
      "metadata": {
        "id": "7qbhfOHjBasT"
      },
      "outputs": [],
      "source": [
        "from sklearn.linear_model import LogisticRegression\n",
        "# TODO: 4) use LogisticRegression of sklearn\n",
        "clf = LogisticRegression(random_state=0)\n",
        "\n",
        "# fit the logistic regression model\n",
        "clf.fit(X,y)\n",
        "\n",
        "# predict using the model\n",
        "y_pred_clf = clf.predict(X)"
      ]
    },
    {
      "cell_type": "code",
      "execution_count": 10,
      "metadata": {
        "id": "KnF25f7PBasT",
        "outputId": "6ee6a78d-0e36-48f1-dd24-1a37d8e29ae3",
        "colab": {
          "base_uri": "https://localhost:8080/"
        }
      },
      "outputs": [
        {
          "output_type": "stream",
          "name": "stdout",
          "text": [
            "WITH SKLEARN: \n",
            "TP: 214, TN: 429, FP: 15, FN: 25\n",
            "Accuracy is 0.9414348462664714, Sensitivity is 0.895397489539749, Precision is 0.9344978165938864\n"
          ]
        }
      ],
      "source": [
        "# Evaluate sklearn's model according to the metrics above\n",
        "\n",
        "# TODO\n",
        "TP, TN, FP, FN = metrics(y,y_pred_clf)\n",
        "# calculate the following metrics using TP, TN, FP, and FN\n",
        "accuracy = (TP+TN)/(TP+TN+FP+FN)\n",
        "sensitivity = TP/(TP+FN)\n",
        "precision = TP/(TP+FP)\n",
        "\n",
        "print(\"WITH SKLEARN: \")\n",
        "print(\"TP: {}, TN: {}, FP: {}, FN: {}\".format(TP, TN, FP, FN))\n",
        "print(\"Accuracy is {}, Sensitivity is {}, Precision is {}\".format(accuracy, sensitivity, precision))"
      ]
    }
  ],
  "metadata": {
    "colab": {
      "collapsed_sections": [
        "MfjrSYu-WKDo"
      ],
      "name": "Breast Cancer Demo.ipynb",
      "provenance": []
    },
    "kernelspec": {
      "display_name": "Python 3",
      "language": "python",
      "name": "python3"
    },
    "language_info": {
      "codemirror_mode": {
        "name": "ipython",
        "version": 3
      },
      "file_extension": ".py",
      "mimetype": "text/x-python",
      "name": "python",
      "nbconvert_exporter": "python",
      "pygments_lexer": "ipython3",
      "version": "3.7.0"
    }
  },
  "nbformat": 4,
  "nbformat_minor": 0
}