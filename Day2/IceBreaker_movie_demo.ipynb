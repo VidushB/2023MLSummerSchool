{
  "cells": [
    {
      "cell_type": "code",
      "execution_count": null,
      "metadata": {
        "id": "zXL3u543mvYN"
      },
      "outputs": [],
      "source": [
        "import pandas as pd\n",
        "import numpy as np\n",
        "import matplotlib\n",
        "import matplotlib.pyplot as plt"
      ]
    },
    {
      "cell_type": "code",
      "execution_count": null,
      "metadata": {
        "id": "W-Tj_d6nnWqw"
      },
      "outputs": [],
      "source": [
        "# dataframe - df\n",
        "df = pd.read_csv('https://raw.githubusercontent.com/VidushB/2023MLSummerSchool/main/Day2/NYU23SummerML_movie.csv')\n",
        "# df = df.dropna()"
      ]
    },
    {
      "cell_type": "code",
      "execution_count": null,
      "metadata": {
        "id": "meCMHRWTnfZW"
      },
      "outputs": [],
      "source": [
        "df.head(20)"
      ]
    },
    {
      "cell_type": "markdown",
      "metadata": {
        "id": "xkstl8sJK5jX"
      },
      "source": [
        "### Plot the IMDB scores for all the movies\n",
        "- Use the [plt.scatter() function](https://matplotlib.org/3.2.1/api/_as_gen/matplotlib.pyplot.scatter.html)\n",
        "- x-axis indicates the name of the movies, y-axis shows the score.\n",
        "- do not forget to put on the labels for the axes."
      ]
    },
    {
      "cell_type": "code",
      "execution_count": null,
      "metadata": {
        "id": "X7b_tjEknqXy"
      },
      "outputs": [],
      "source": [
        "names = df['Movie'].values\n",
        "score = df['IMDB Score'].values"
      ]
    },
    {
      "cell_type": "code",
      "execution_count": null,
      "metadata": {
        "id": "EebaW8RPK5jY"
      },
      "outputs": [],
      "source": [
        "## To-do\n",
        "plt.figure(figsize=(15, 5))\n",
        "plt.scatter(names, score)\n",
        "plt.xticks(rotation=90)\n",
        "plt.show()"
      ]
    },
    {
      "cell_type": "markdown",
      "metadata": {
        "id": "yIN8mDZ0K5jb"
      },
      "source": [
        "### Plot the number of movies for each genre\n",
        "- Use the [plt.bar() function](https://matplotlib.org/3.2.1/api/_as_gen/matplotlib.pyplot.bar.html)\n",
        "- x-axis indicates the genre, y-axis shows the count for each genre.\n",
        "- do not forget to put on the labels for the axes."
      ]
    },
    {
      "cell_type": "code",
      "execution_count": null,
      "metadata": {
        "id": "WYpmipj4K5jb"
      },
      "outputs": [],
      "source": [
        "# To-do\n",
        "genre = df['Genre'].values\n",
        "\n",
        "modes, counts = np.unique(genre, return_counts=True)"
      ]
    },
    {
      "cell_type": "code",
      "source": [
        "plt.bar(modes, counts)\n",
        "plt.xticks(modes, rotation=90)\n",
        "plt.xlabel('Genre')\n",
        "plt.ylabel('Count')"
      ],
      "metadata": {
        "id": "yqDR5-ba1HIs"
      },
      "execution_count": null,
      "outputs": []
    },
    {
      "cell_type": "markdown",
      "metadata": {
        "id": "VIanecbER2ra"
      },
      "source": [
        "### Plot the histogram for the IMDB score\n",
        "- Use [plt.hist() function](https://matplotlib.org/api/_as_gen/matplotlib.pyplot.hist.html)\n",
        "- x-axis indicates the score interval, y-axis shows the number of movies within each score interval\n",
        "- make the interval length 0.5\n",
        "- do not forget to put on the labels for the axes."
      ]
    },
    {
      "cell_type": "markdown",
      "metadata": {
        "id": "JK4VaynLlRug"
      },
      "source": [
        "- numpy arange() might come in handy!"
      ]
    },
    {
      "cell_type": "code",
      "execution_count": null,
      "metadata": {
        "id": "J0WLGlpQS6vg"
      },
      "outputs": [],
      "source": [
        "# To-do\n",
        "min_score = np.min(score)\n",
        "max_score = np.max(score)\n",
        "\n",
        "bin_range = np.arange(min_score, max_score, 0.5)\n",
        "plt.hist(score, bin_range, ec='red')\n",
        "\n",
        "plt.xlabel('Score')\n",
        "plt.ylabel('Number')\n",
        "plt.show()"
      ]
    },
    {
      "cell_type": "markdown",
      "source": [
        "### Calculate the mean and variance of the IMDB score of the movies\n"
      ],
      "metadata": {
        "id": "7WZVNg1cq-sU"
      }
    },
    {
      "cell_type": "code",
      "execution_count": null,
      "metadata": {
        "id": "CY-EKqoUOfP6"
      },
      "outputs": [],
      "source": [
        "# To-do\n",
        "mean_score = np.mean(score)\n",
        "var_score = np.var(score)\n",
        "\n",
        "print(\"Mean score: \", mean_score)\n",
        "print(\"Var of score: \", var_score)"
      ]
    },
    {
      "cell_type": "code",
      "source": [
        ""
      ],
      "metadata": {
        "id": "yC8ID0XpYcdu"
      },
      "execution_count": null,
      "outputs": []
    }
  ],
  "metadata": {
    "colab": {
      "name": "IceBreakerDemo.ipynb",
      "provenance": []
    },
    "kernelspec": {
      "display_name": "Python 3",
      "language": "python",
      "name": "python3"
    },
    "language_info": {
      "codemirror_mode": {
        "name": "ipython",
        "version": 3
      },
      "file_extension": ".py",
      "mimetype": "text/x-python",
      "name": "python",
      "nbconvert_exporter": "python",
      "pygments_lexer": "ipython3",
      "version": "3.7.0"
    },
    "latex_envs": {
      "LaTeX_envs_menu_present": true,
      "autoclose": true,
      "autocomplete": true,
      "bibliofile": "biblio.bib",
      "cite_by": "apalike",
      "current_citInitial": 1,
      "eqLabelWithNumbers": true,
      "eqNumInitial": 1,
      "hotkeys": {
        "equation": "Ctrl-E",
        "itemize": "Ctrl-I"
      },
      "labels_anchors": false,
      "latex_user_defs": false,
      "report_style_numbering": false,
      "user_envs_cfg": false
    }
  },
  "nbformat": 4,
  "nbformat_minor": 0
}
