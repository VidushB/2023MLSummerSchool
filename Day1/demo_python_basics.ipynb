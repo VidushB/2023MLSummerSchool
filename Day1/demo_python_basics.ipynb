{
  "cells": [
    {
      "cell_type": "markdown",
      "metadata": {
        "id": "66ZZ59uiIjl-"
      },
      "source": [
        "## Variables\n",
        "We'll use integers for now, but there exist many more data-types.\n",
        "Variables are ways we deal with data, assign values, and allow interaction in the computer.\n",
        "Notice that re-assigning ```a``` variable does not change the value of ```c``` becuase **code is executed sequentially**"
      ]
    },
    {
      "cell_type": "code",
      "execution_count": 2,
      "metadata": {
        "colab": {
          "base_uri": "https://localhost:8080/"
        },
        "id": "VDF6wc3IIjl-",
        "outputId": "2a76f00f-8079-4374-cbf5-db8aa4028d80"
      },
      "outputs": [
        {
          "output_type": "stream",
          "name": "stdout",
          "text": [
            "a =  5\n",
            "b =  2\n",
            "c =  7\n",
            "a =  3\n",
            "b =  2\n",
            "c =  7\n",
            "c =  5\n"
          ]
        }
      ],
      "source": [
        "a = 5\n",
        "b = 2\n",
        "\n",
        "print('a = ', a) # \"a = \" is string, a is the variable, so we will print a = val of a\n",
        "print('b = ', b)\n",
        "\n",
        "c = a + b\n",
        "print('c = ', c)\n",
        "\n",
        "a = 3\n",
        "\n",
        "print('a = ', a)\n",
        "print('b = ', b)\n",
        "print('c = ', c)\n",
        "\n",
        "c = a + b\n",
        "print('c = ', c)"
      ]
    },
    {
      "cell_type": "markdown",
      "metadata": {
        "id": "22na4BBNIjmF"
      },
      "source": [
        "## If-Statements\n",
        "Basic inequality statements: ```==, !=, >=, <=, >, <```. If statements are used to conditionally execute a line of code. Inequality statements return **boolean** variables types: ```True``` or ```False```. Contents of an if-statement are only evaluated when the condition is ```True```. *Extra: look into elseif statements.*\n"
      ]
    },
    {
      "cell_type": "code",
      "execution_count": 3,
      "metadata": {
        "colab": {
          "base_uri": "https://localhost:8080/"
        },
        "id": "Yct3wpGNIjmF",
        "outputId": "f210aec0-49c9-4379-b046-5b70bcdf5e23"
      },
      "outputs": [
        {
          "output_type": "stream",
          "name": "stdout",
          "text": [
            "False\n",
            "True\n",
            "Booleans are great!\n",
            "Is a greater than 0? True\n",
            "a is greater than 0!\n",
            "Yep, a + b =  5\n"
          ]
        }
      ],
      "source": [
        "print(5 < 3) # boolean datatype\n",
        "print(True) # boolean datatype\n",
        "\n",
        "if True:                             ## True, implement the code, print('Booleans are great!')\n",
        "    print('Booleans are great!')\n",
        "    \n",
        "if False:                            ## False, don't implement the code\n",
        "    print('This will never be printed!')\n",
        "\n",
        "print('Is a greater than 0?', a > 0)    ## a = 3 in our last block, a > 0 is True\n",
        "\n",
        "if a > 0:                            ## True, implement the code,\n",
        "    print('a is greater than 0!')\n",
        "    \n",
        "if a + b == c:                         ## a = 3, b = 2, c = 5 in our last block, a+b = c\n",
        "    print('Yep, a + b = ', a + b)           \n",
        "else:                                 ## else means not (a+b == c), means (a+b != c), \n",
        "    print('Nope, a + b = ', a + b)         "
      ]
    },
    {
      "cell_type": "markdown",
      "metadata": {
        "id": "Xjn9uTS2IjmI"
      },
      "source": [
        "## Functions\n",
        "Functions are used to define lines of code we wish to execute later or reuse. Functions may return a variable from being called, which is signified by their return statement. A return statement is optional. Functions can take in parameters with and/or without key-word arguments (kwargs).\n",
        "\n",
        "Functions are very powerful. If find yourself copying and pasting code in multiple places, consider writing a function instead."
      ]
    },
    {
      "cell_type": "code",
      "execution_count": 4,
      "metadata": {
        "colab": {
          "base_uri": "https://localhost:8080/"
        },
        "id": "wGZ0WTqZIjmJ",
        "outputId": "b40ce1ac-32e8-4e96-ad40-ab67968a6234"
      },
      "outputs": [
        {
          "output_type": "stream",
          "name": "stdout",
          "text": [
            "var =  7\n"
          ]
        }
      ],
      "source": [
        "def myPrintFunc(x):               ## This is how you define you function\n",
        "    print('var = ', x)\n",
        "    \n",
        "def myFunc(x, y):                ## What's this function doing?\n",
        "    return x + y\n",
        "\n",
        "a = myFunc(a, b)                  ## a = a + b = 3 + 2 = 5\n",
        "\n",
        "def myFunc2(x, y, show=True):     ## what's this function doing?\n",
        "    w = myFunc(x, y)              ## w = a + b\n",
        "    if show:                      ## show = True\n",
        "        myPrintFunc(w)            ## print w, which is w = a + b\n",
        "    return w\n",
        "    \n",
        "a = myFunc2(a,b)                  ## a = a + b = 5 + 2 = 7\n",
        "a = myFunc2(a,b, show=False)      ## a = a + b = 7 + 2 = 9\n",
        "# print(a)"
      ]
    },
    {
      "cell_type": "markdown",
      "metadata": {
        "id": "99l7ApjuIjmP"
      },
      "source": [
        "## Lists\n",
        "Python has a datatype of lists, which stores an ordered array of objects. Objects in the list may be accessed and altered by indexing. *Extra: dictionaries*."
      ]
    },
    {
      "cell_type": "code",
      "execution_count": 5,
      "metadata": {
        "colab": {
          "base_uri": "https://localhost:8080/"
        },
        "id": "qCa2HCKoIjmQ",
        "outputId": "1984ae39-14fc-408d-a3e6-5748dadcc704"
      },
      "outputs": [
        {
          "output_type": "stream",
          "name": "stdout",
          "text": [
            "[2, -5, 6, False, 56, '', 7.8]\n",
            "7\n",
            "2\n",
            "6\n",
            "7.8\n"
          ]
        }
      ],
      "source": [
        "list_x = [2, -5, 6, False, 56] ## empty list = []\n",
        "\n",
        "print(list_x)                  ## print the whole list\n",
        "print(len(list_x))\n",
        "\n",
        "# indexing\n",
        "print(list_x[0])               ## print the first element, 2\n",
        "print(list_x[2])               ## print the third element, 6\n",
        "print(list_x[-1])              ## print the last element, 56"
      ]
    },
    {
      "cell_type": "markdown",
      "metadata": {
        "id": "ivzeEkDVIjmT"
      },
      "source": [
        "## Loops\n",
        "While-loops execute the same lines of code until a condition is broken.\n",
        "For-loops iterate over an object while executing the same lines of code, until the iteration reaches its end.\n",
        "All for-loops may be equivalently written with while-loops."
      ]
    },
    {
      "cell_type": "code",
      "execution_count": 11,
      "metadata": {
        "colab": {
          "base_uri": "https://localhost:8080/"
        },
        "id": "5mwPCL-oIjmT",
        "outputId": "e8d8b2f7-effa-411d-a625-e488c566d3a0"
      },
      "outputs": [
        {
          "output_type": "stream",
          "name": "stdout",
          "text": [
            "---- while loop 1 ----\n",
            "0\n",
            "1\n",
            "2\n",
            "3\n",
            "4\n",
            "---- while loop 2 ----\n",
            "2\n",
            "-5\n",
            "6\n",
            "False\n",
            "56\n",
            "\n",
            "7.8\n",
            "---- for loop 1 ----\n",
            "2\n",
            "-5\n",
            "6\n",
            "False\n",
            "56\n",
            "\n",
            "7.8\n",
            "---- for loop 2 ----\n",
            "2\n",
            "-5\n",
            "6\n"
          ]
        }
      ],
      "source": [
        "# while loop example\n",
        "# initialize the variable\n",
        "\n",
        "print(\"---- while loop 1 ----\")\n",
        "i = 0\n",
        "while i < 5:                     ## implement the inner code as long as the statement is True\n",
        "    print(i)\n",
        "    i = i + 1\n",
        "\n",
        "print(\"---- while loop 2 ----\")\n",
        "i=0\n",
        "while i < len(list_x):           ## len(), the number of elements in total\n",
        "    print(list_x[i])  # print out the element of the list at index i\n",
        "    i += 1      # equivalent to : i = i + 1\n",
        "    \n",
        "print(\"---- for loop 1 ----\")\n",
        "# equivalent for loop\n",
        "for i in range(len(list_x)):  # range(5): i 0 1 2 3 4  i : 0,1,2,..., length of list -1\n",
        "    print(list_x[i])\n",
        "    \n",
        "print(\"---- for loop 2 ----\")\n",
        "# breaking out of a for loop\n",
        "for i in range(len(list_x)):\n",
        "    if list_x[i] == False:\n",
        "        break                          ## escape the for loop\n",
        "    print(list_x[i])"
      ]
    },
    {
      "cell_type": "markdown",
      "metadata": {
        "id": "jaSj0e63IjmZ"
      },
      "source": [
        "## Strings\n",
        "Strings in python are treated as lists of characters. There are a bunch of built-in functions dealing with strings that you should look up. *Extra: ```find()```"
      ]
    },
    {
      "cell_type": "code",
      "execution_count": 21,
      "metadata": {
        "colab": {
          "base_uri": "https://localhost:8080/"
        },
        "id": "OGpzTTF3IjmZ",
        "outputId": "6d929957-607e-442a-e425-c5e60faed7b0"
      },
      "outputs": [
        {
          "output_type": "stream",
          "name": "stdout",
          "text": [
            "o\n"
          ]
        }
      ],
      "source": [
        "this_string = \"hello everyone\"        ## consider it as a list\n",
        "\n",
        "print(this_string[4])                 ## The fifth element is o"
      ]
    },
    {
      "cell_type": "markdown",
      "metadata": {
        "id": "f_8Bl2vpIjmc"
      },
      "source": [
        "## Classes\n",
        "So far we've seen the data-types of integers, floats (non-integer numbers), booleans, strings, and characters. Most modern programming languages allow us to basically define our own data-types in the form of **classes**. \n",
        "\n",
        "We instiate instances of our new datatype by callling the class, which automatically calls the init function. These class objects then have values and functions associated with them, that can be accessed by the \"dot\": ```my_object.my_value``` or ```my_object.my_function```. \n",
        "\n",
        "Though you may not need to make a class for this class, it makes life easier when we understand why we're writing code the way we are."
      ]
    },
    {
      "cell_type": "code",
      "execution_count": 8,
      "metadata": {
        "colab": {
          "base_uri": "https://localhost:8080/"
        },
        "id": "5gKykQHkIjmc",
        "outputId": "e97972e2-7c91-4ff6-bce0-818d3611c0d6"
      },
      "outputs": [
        {
          "output_type": "stream",
          "name": "stdout",
          "text": [
            "10\n",
            "Hello\n",
            "11\n",
            "Hello\n"
          ]
        }
      ],
      "source": [
        "class MyClass:                                   ## just a special data type, like def\n",
        "    # init function must be called __init__\n",
        "    def __init__(self, value=0, string=\"...\"):   ## class always needs such __init__ function, \n",
        "        self.my_val = value                      ## always put self in each function, self means the class itself\n",
        "        self.my_str = string\n",
        "        \n",
        "    # all other functions can be called whatever you like\n",
        "    def increment(self, inc=1):\n",
        "        self.my_val += inc\n",
        "    \n",
        "    # all functions of the class need self as a parameter\n",
        "    def printStr(self):\n",
        "        print(self.my_str)\n",
        "        \n",
        "my_object = MyClass(10, \"Hello\")              ## when call the class, it implements __init__ function\n",
        "\n",
        "print(my_object.my_val)\n",
        "print(my_object.my_str)\n",
        "\n",
        "my_object.increment()                         ## call class function\n",
        "print(my_object.my_val)\n",
        "\n",
        "my_object.printStr()"
      ]
    },
    {
      "cell_type": "markdown",
      "metadata": {
        "id": "vf-c0S3RMTmQ"
      },
      "source": [
        "# Lab \n",
        "\n",
        "\n",
        "### Exercise 1\n",
        "Write a function to find the second largest number in a list (Hint: use sort())\n",
        "\n"
      ]
    },
    {
      "cell_type": "code",
      "execution_count": 20,
      "metadata": {
        "id": "Pzj5zFMAlJZu",
        "colab": {
          "base_uri": "https://localhost:8080/"
        },
        "outputId": "731676a7-93b2-472a-d030-016f584e0656"
      },
      "outputs": [
        {
          "output_type": "stream",
          "name": "stdout",
          "text": [
            "[3, 5, 6, 8, 2, 0, 4]\n",
            "[0, 2, 3, 4, 5, 6, 8]\n"
          ]
        },
        {
          "output_type": "execute_result",
          "data": {
            "text/plain": [
              "6"
            ]
          },
          "metadata": {},
          "execution_count": 20
        }
      ],
      "source": [
        "## Your code here\n",
        "# list = [3,5,6,8,2,0,4]\n",
        "# print(list)\n",
        "# list.sort()\n",
        "# print(list) # sort elements in ascending order\n",
        "# list[-2]\n",
        "\n",
        "# def second_largest(list):\n",
        "#     return ..."
      ]
    },
    {
      "cell_type": "markdown",
      "metadata": {
        "id": "Jv7IWGtnCFcC"
      },
      "source": [
        "Your ouput should look as follows:"
      ]
    },
    {
      "cell_type": "code",
      "execution_count": 10,
      "metadata": {
        "colab": {
          "base_uri": "https://localhost:8080/",
          "height": 226
        },
        "id": "VYXhbfoVSUUp",
        "outputId": "e4ad9e77-b7d9-4808-93b3-5500a10fae55"
      },
      "outputs": [
        {
          "output_type": "error",
          "ename": "NameError",
          "evalue": "ignored",
          "traceback": [
            "\u001b[0;31m---------------------------------------------------------------------------\u001b[0m",
            "\u001b[0;31mNameError\u001b[0m                                 Traceback (most recent call last)",
            "\u001b[0;32m<ipython-input-10-e6ce0ea482a2>\u001b[0m in \u001b[0;36m<module>\u001b[0;34m()\u001b[0m\n\u001b[0;32m----> 1\u001b[0;31m \u001b[0mprint\u001b[0m\u001b[0;34m(\u001b[0m\u001b[0msecond_largest\u001b[0m\u001b[0;34m(\u001b[0m\u001b[0;34m[\u001b[0m\u001b[0;36m23\u001b[0m\u001b[0;34m,\u001b[0m \u001b[0;36m52\u001b[0m\u001b[0;34m,\u001b[0m \u001b[0;36m11\u001b[0m\u001b[0;34m,\u001b[0m \u001b[0;36m52\u001b[0m\u001b[0;34m,\u001b[0m \u001b[0;36m9\u001b[0m\u001b[0;34m,\u001b[0m \u001b[0;36m26\u001b[0m\u001b[0;34m,\u001b[0m \u001b[0;36m2\u001b[0m\u001b[0;34m,\u001b[0m \u001b[0;36m1\u001b[0m\u001b[0;34m,\u001b[0m \u001b[0;36m67\u001b[0m\u001b[0;34m]\u001b[0m\u001b[0;34m)\u001b[0m\u001b[0;34m)\u001b[0m\u001b[0;34m\u001b[0m\u001b[0;34m\u001b[0m\u001b[0m\n\u001b[0m\u001b[1;32m      2\u001b[0m \u001b[0mprint\u001b[0m\u001b[0;34m(\u001b[0m\u001b[0msecond_largest\u001b[0m\u001b[0;34m(\u001b[0m\u001b[0;34m[\u001b[0m\u001b[0;36m12\u001b[0m\u001b[0;34m,\u001b[0m \u001b[0;36m45\u001b[0m\u001b[0;34m,\u001b[0m \u001b[0;36m2\u001b[0m\u001b[0;34m,\u001b[0m \u001b[0;36m41\u001b[0m\u001b[0;34m,\u001b[0m \u001b[0;36m31\u001b[0m\u001b[0;34m,\u001b[0m \u001b[0;36m10\u001b[0m\u001b[0;34m,\u001b[0m \u001b[0;36m8\u001b[0m\u001b[0;34m,\u001b[0m \u001b[0;36m6\u001b[0m\u001b[0;34m,\u001b[0m \u001b[0;36m4\u001b[0m\u001b[0;34m]\u001b[0m\u001b[0;34m)\u001b[0m\u001b[0;34m)\u001b[0m\u001b[0;34m\u001b[0m\u001b[0;34m\u001b[0m\u001b[0m\n\u001b[1;32m      3\u001b[0m \u001b[0mprint\u001b[0m\u001b[0;34m(\u001b[0m\u001b[0msecond_largest\u001b[0m\u001b[0;34m(\u001b[0m\u001b[0;34m[\u001b[0m\u001b[0;36m23\u001b[0m\u001b[0;34m,\u001b[0m\u001b[0;36m23\u001b[0m\u001b[0;34m]\u001b[0m\u001b[0;34m)\u001b[0m\u001b[0;34m)\u001b[0m\u001b[0;34m\u001b[0m\u001b[0;34m\u001b[0m\u001b[0m\n\u001b[1;32m      4\u001b[0m \u001b[0mprint\u001b[0m\u001b[0;34m(\u001b[0m\u001b[0msecond_largest\u001b[0m\u001b[0;34m(\u001b[0m\u001b[0;34m[\u001b[0m\u001b[0;36m24\u001b[0m\u001b[0;34m]\u001b[0m\u001b[0;34m)\u001b[0m\u001b[0;34m)\u001b[0m\u001b[0;34m\u001b[0m\u001b[0;34m\u001b[0m\u001b[0m\n",
            "\u001b[0;31mNameError\u001b[0m: name 'second_largest' is not defined"
          ]
        }
      ],
      "source": [
        "print(second_largest([23, 52, 11, 52, 9, 26, 2, 1, 67]))\n",
        "print(second_largest([12, 45, 2, 41, 31, 10, 8, 6, 4]))\n",
        "print(second_largest([23,23]))\n",
        "print(second_largest([24]))"
      ]
    },
    {
      "cell_type": "markdown",
      "metadata": {
        "id": "jq1Y6E2ISm_t"
      },
      "source": [
        "### Exercise 2 (optional)\n",
        "\n",
        "Define a class which has at least two methods:  \n",
        "*   getString: to get a string from console input (Hint: use input())\n",
        "*   printString: to print the string in upper case (Hint: use upper())\n",
        "\n",
        "Test the class methods."
      ]
    },
    {
      "cell_type": "code",
      "execution_count": null,
      "metadata": {
        "id": "YzdLV6MmlJZw"
      },
      "outputs": [],
      "source": [
        "## Your code here"
      ]
    }
  ],
  "metadata": {
    "colab": {
      "name": "“demo_python_basics.ipynb”copy",
      "provenance": [],
      "collapsed_sections": []
    },
    "kernelspec": {
      "display_name": "Python 3",
      "language": "python",
      "name": "python3"
    },
    "language_info": {
      "codemirror_mode": {
        "name": "ipython",
        "version": 3
      },
      "file_extension": ".py",
      "mimetype": "text/x-python",
      "name": "python",
      "nbconvert_exporter": "python",
      "pygments_lexer": "ipython3",
      "version": "3.7.0"
    },
    "latex_envs": {
      "LaTeX_envs_menu_present": true,
      "autoclose": true,
      "autocomplete": true,
      "bibliofile": "biblio.bib",
      "cite_by": "apalike",
      "current_citInitial": 1,
      "eqLabelWithNumbers": true,
      "eqNumInitial": 1,
      "hotkeys": {
        "equation": "Ctrl-E",
        "itemize": "Ctrl-I"
      },
      "labels_anchors": false,
      "latex_user_defs": false,
      "report_style_numbering": false,
      "user_envs_cfg": false
    }
  },
  "nbformat": 4,
  "nbformat_minor": 0
}