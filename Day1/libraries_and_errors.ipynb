{
  "nbformat": 4,
  "nbformat_minor": 0,
  "metadata": {
    "colab": {
      "provenance": []
    },
    "kernelspec": {
      "name": "python3",
      "display_name": "Python 3"
    },
    "language_info": {
      "name": "python"
    }
  },
  "cells": [
    {
      "cell_type": "markdown",
      "source": [
        "**Calling a Library without importing**"
      ],
      "metadata": {
        "id": "lwN94QAtsPFa"
      }
    },
    {
      "cell_type": "code",
      "execution_count": null,
      "metadata": {
        "id": "Vrp-qiOasLd_"
      },
      "outputs": [],
      "source": [
        "x=np.sum([1,2,3])"
      ]
    },
    {
      "cell_type": "code",
      "source": [
        "import numpy"
      ],
      "metadata": {
        "id": "Hmmjat8Ysg5o"
      },
      "execution_count": null,
      "outputs": []
    },
    {
      "cell_type": "code",
      "source": [
        "np.sum([1,2,3])"
      ],
      "metadata": {
        "id": "qnd2Af7bsjDo"
      },
      "execution_count": null,
      "outputs": []
    },
    {
      "cell_type": "code",
      "source": [
        "import numpy as np\n",
        "np.sum([1,2,3])"
      ],
      "metadata": {
        "id": "M8Zdsr1Gsl-I"
      },
      "execution_count": null,
      "outputs": []
    },
    {
      "cell_type": "markdown",
      "source": [
        "**Writing Modular Code and using functions**"
      ],
      "metadata": {
        "id": "Gj8U1UcSstH3"
      }
    },
    {
      "cell_type": "code",
      "source": [
        "addition(2,3)"
      ],
      "metadata": {
        "id": "Akn54f7rs1mC"
      },
      "execution_count": null,
      "outputs": []
    },
    {
      "cell_type": "code",
      "source": [
        "def addition(x,y):\n",
        "  return x+y\n",
        "def multiplication(x,y):\n",
        "  return x*y"
      ],
      "metadata": {
        "id": "GQmBt7VEspu2"
      },
      "execution_count": null,
      "outputs": []
    },
    {
      "cell_type": "markdown",
      "source": [
        "**Benfits of using functions**\n",
        "\n",
        "1. Reusability: If you write a function for addition, that same function can be called over and over.\n",
        "2. Readability: If one function fails, it can be easier to diagnose than if multiple tasks are written into a single function.\n",
        "3. Modularity: If you wanted to add divion, or calculus to your code and used a single function and you made a mistake, it could potentially affect the functionality of other steps."
      ],
      "metadata": {
        "id": "9QJ4OsK5tEQj"
      }
    },
    {
      "cell_type": "markdown",
      "source": [
        "**Excercise: Error Handling**"
      ],
      "metadata": {
        "id": "l9t1ByiRt_lc"
      }
    },
    {
      "cell_type": "code",
      "source": [
        "addition(1,2,3)\n"
      ],
      "metadata": {
        "id": "5bDDyPZltMRH"
      },
      "execution_count": null,
      "outputs": []
    },
    {
      "cell_type": "code",
      "source": [
        "addition(a,b)"
      ],
      "metadata": {
        "id": "-ykh6UNbuE4H"
      },
      "execution_count": null,
      "outputs": []
    },
    {
      "cell_type": "code",
      "source": [
        "addition(3)"
      ],
      "metadata": {
        "id": "nXcQiC7PuRy-"
      },
      "execution_count": null,
      "outputs": []
    },
    {
      "cell_type": "code",
      "source": [
        "calculus(1,2)"
      ],
      "metadata": {
        "id": "nkn2GBHUucLS"
      },
      "execution_count": null,
      "outputs": []
    },
    {
      "cell_type": "code",
      "source": [
        "addition([1,2,3],[1,2,3]) \n",
         "def multiplier_funct(X,Y): \n",
          " return X@Y \n",
          "multiplier_funct([1,2,3],[1,2,'3'])"
  
      ],
      "metadata": {
        "id": "hvbg_6B3uVvx"
      },
      "execution_count": null,
      "outputs": []
    }
  ]
}
